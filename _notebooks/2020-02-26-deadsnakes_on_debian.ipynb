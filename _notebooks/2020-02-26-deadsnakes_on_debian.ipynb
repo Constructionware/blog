{
 "cells": [
  {
   "cell_type": "markdown",
   "metadata": {},
   "source": [
    "# \"(Dead) Snakes on a… Debian System\"\n",
    "> \"Python 3.6 / 3.7 / 3.8 Debian packages for both Stretch and Buster\"\n",
    "- toc: false\n",
    "- branch: master\n",
    "- badges: true\n",
    "- comments: true\n",
    "- categories: [\"python\", deployment]\n",
    "- image: images/copied_from_nb/img/python/python-on-debian.png"
   ]
  },
  {
   "cell_type": "markdown",
   "metadata": {},
   "source": [
    "![](img/python/python-on-debian.png)\n",
    "\n",
    "The [Deadsnakes PPA](https://github.com/deadsnakes) project originally built older Python releases for Ubuntu, so you could e.g. run unit tests on a new release using a Python version found on older releases (i.e. the ‘dead’ snakes).\n",
    "\n",
    "Nowadays, the project also builds *newer* Python versions ahead of what a certain release offers as its default.\n",
    "\n",
    "The packages contain the minor Python version in their name (e.g. `python3.6`) and can thus be installed concurrently to the default `python3` ones. Originally based on the Debian source packages, they can also be used on Debian and not just on Ubuntu.\n",
    "\n",
    "The build script and Dockerfile [found here](https://github.com/jhermann/ezpy/tree/master/deadsnakes#readme) build packages for some Debian releases in their related Docker base images.\n",
    "\n",
    "Based on this, *Python 3.6* can be installed for all of Stretch, Buster, and Xenial, as a set of the usual core Python packages (`python3.6`, `python3.6-venv`, `python3.6-dev`, …). Note that Bionic comes with 3.6 as a default.\n",
    "\n",
    "The same goes for *Python 3.7*, with Buster having it as a default.\n",
    "\n",
    "*Python 3.8* is an add-on for all the (old-)stable releases (as of Feb 2020). Using this version makes the most sense to me, unless you have special needs forcing you to go to 3.7 or 3.6. Being an add-on everywhere ensures a similar experience regarding any quirks you encounter, and it is (right now) the newest stable version of Python. It also fits best what you get when using Docker's `python:3-slim`."
   ]
  }
 ],
 "metadata": {
  "hide_input": false,
  "kernelspec": {
   "display_name": "Python 3",
   "language": "python",
   "name": "python3"
  },
  "language_info": {
   "codemirror_mode": {
    "name": "ipython",
    "version": 3
   },
   "file_extension": ".py",
   "mimetype": "text/x-python",
   "name": "python",
   "nbconvert_exporter": "python",
   "pygments_lexer": "ipython3",
   "version": "3.8.1"
  },
  "toc": {
   "base_numbering": 1,
   "nav_menu": {},
   "number_sections": true,
   "sideBar": true,
   "skip_h1_title": false,
   "title_cell": "Table of Contents",
   "title_sidebar": "Contents",
   "toc_cell": false,
   "toc_position": {},
   "toc_section_display": true,
   "toc_window_display": false
  },
  "varInspector": {
   "cols": {
    "lenName": 16,
    "lenType": 16,
    "lenVar": 40
   },
   "kernels_config": {
    "python": {
     "delete_cmd_postfix": "",
     "delete_cmd_prefix": "del ",
     "library": "var_list.py",
     "varRefreshCmd": "print(var_dic_list())"
    },
    "r": {
     "delete_cmd_postfix": ") ",
     "delete_cmd_prefix": "rm(",
     "library": "var_list.r",
     "varRefreshCmd": "cat(var_dic_list()) "
    }
   },
   "types_to_exclude": [
    "module",
    "function",
    "builtin_function_or_method",
    "instance",
    "_Feature"
   ],
   "window_display": false
  }
 },
 "nbformat": 4,
 "nbformat_minor": 4
}
