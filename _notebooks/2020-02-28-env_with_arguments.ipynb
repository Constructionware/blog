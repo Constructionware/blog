{
 "cells": [
  {
   "cell_type": "markdown",
   "metadata": {},
   "source": [
    "# \"Shell Scripts: env-shebang with Arguments\"\n",
    "> \"What you need to pass arguments to an interpreter found by 'env'.\"\n",
    "- author: jhermann\n",
    "- toc: false\n",
    "- branch: master\n",
    "- badges: true\n",
    "- comments: true\n",
    "- published: true\n",
    "- categories: [linux, know-how]\n",
    "- image: images/copied_from_nb/img/linux/linux-shell.png"
   ]
  },
  {
   "cell_type": "markdown",
   "metadata": {},
   "source": [
    "![](img/linux/linux-shell.png)"
   ]
  },
  {
   "cell_type": "markdown",
   "metadata": {},
   "source": [
    "## The Problem\n",
    "\n",
    "There is an old annoyance that, if you use `env` in a bang path to search the script interpreter in the shell's path, you cannot pass any arguments to it. Instead, all the text after the call to `env` is passed as one single argument, and `env` tries to find this as the executable to invoke, which fails of course when arguments are present.\n",
    "\n",
    "`env` is not the culprit here, but the very definition of how a bang path works (quoted from the `bash` manpage):\n",
    "\n",
    "> If  the  program  is a file beginning with ``#!``, the remainder of the first line specifies an interpreter for the program.\n",
    "> The shell executes the specified interpreter on operating systems that do not handle this executable format  themselves.\n",
    "> The  **arguments to the interpreter consist of a *single* optional argument** following the interpreter name on the first line…  *(emphasis mine)*\n",
    "\n",
    "So what env gets to see in its ``argv`` array when you write something like ``#! /usr/bin/env python3 -I -S`` is ``['/usr/bin/env', 'python3 -I -S']``. And there is no ``python3 -I -S`` anywhere to be found that could interpret your script. 😞"
   ]
  },
  {
   "cell_type": "markdown",
   "metadata": {},
   "source": [
    "## The Solution\n",
    "\n",
    "The `env` command in coreutils 8.30 solves this (i.e. Debian Buster only so far, Ubuntu Bionic still has 8.28). The relevant change is introducing a split option (``-S``), designed to handle that special case of getting all arguments mushed together into one.\n",
    "\n",
    "In the example below, we want to pass the ``-I -S`` options to Python on startup. They increase security of a script, by reducing the possible ways an attacker can insert their malicious code into your runtime environment, as you can see from the help text:\n",
    "\n",
    "```\n",
    "-I     : isolate Python from the user's environment (implies -E and -s)\n",
    "-E     : ignore PYTHON* environment variables (such as PYTHONPATH)\n",
    "-s     : don't add user site directory to sys.path; also PYTHONNOUSERSITE\n",
    "-S     : don't imply 'import site' on initialization\n",
    "```\n",
    "\n",
    "You can try the following yourself using `docker run --rm -it --entrypoint /bin/bash python:3-slim-buster`:\n",
    "\n",
    "```console\n",
    "$ cat >>isolated <<'.'\n",
    "#!/usr/bin/env -S python3 -I -S\n",
    "import sys\n",
    "print('\\n'.join(sys.path))\n",
    ".\n",
    "$ chmod +x isolated\n",
    "$ ./isolated\n",
    "/usr/local/lib/python38.zip\n",
    "/usr/local/lib/python3.8\n",
    "/usr/local/lib/python3.8/lib-dynload\n",
    "```\n",
    "\n",
    "Normally, the Python path would include both the current working directory (`/` in this case) as well as site packages (`/usr/local/lib/python3.8/site-packages`).\n",
    "\n",
    "However, we prevented their inclusion as a source of unanticipated code – and you can be a happy cat again. 😻"
   ]
  }
 ],
 "metadata": {
  "hide_input": false,
  "kernelspec": {
   "display_name": "Python 3",
   "language": "python",
   "name": "python3"
  },
  "language_info": {
   "codemirror_mode": {
    "name": "ipython",
    "version": 3
   },
   "file_extension": ".py",
   "mimetype": "text/x-python",
   "name": "python",
   "nbconvert_exporter": "python",
   "pygments_lexer": "ipython3",
   "version": "3.8.1"
  },
  "toc": {
   "base_numbering": 1,
   "nav_menu": {},
   "number_sections": true,
   "sideBar": true,
   "skip_h1_title": false,
   "title_cell": "Table of Contents",
   "title_sidebar": "Contents",
   "toc_cell": false,
   "toc_position": {},
   "toc_section_display": true,
   "toc_window_display": false
  },
  "varInspector": {
   "cols": {
    "lenName": 16,
    "lenType": 16,
    "lenVar": 40
   },
   "kernels_config": {
    "python": {
     "delete_cmd_postfix": "",
     "delete_cmd_prefix": "del ",
     "library": "var_list.py",
     "varRefreshCmd": "print(var_dic_list())"
    },
    "r": {
     "delete_cmd_postfix": ") ",
     "delete_cmd_prefix": "rm(",
     "library": "var_list.r",
     "varRefreshCmd": "cat(var_dic_list()) "
    }
   },
   "types_to_exclude": [
    "module",
    "function",
    "builtin_function_or_method",
    "instance",
    "_Feature"
   ],
   "window_display": false
  }
 },
 "nbformat": 4,
 "nbformat_minor": 4
}
