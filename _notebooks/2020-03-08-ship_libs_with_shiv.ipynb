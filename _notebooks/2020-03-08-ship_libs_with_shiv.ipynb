{
 "cells": [
  {
   "cell_type": "markdown",
   "metadata": {},
   "source": [
    "# \"Bundling Python Dependencies in a ZIP Archive\"\n",
    "> \"Shipping dependencies for your scripts as a single file, built with ‘shiv’.\"\n",
    "- author: jhermann\n",
    "- toc: false\n",
    "\n",
    "- branch: master\n",
    "- badges: true\n",
    "- comments: true\n",
    "- published: true\n",
    "- categories: [python, deployment]\n",
    "- image: images/copied_from_nb/img/python/python+shiv.png"
   ]
  },
  {
   "cell_type": "markdown",
   "metadata": {},
   "source": [
    "![](img/python/python+shiv.png)"
   ]
  },
  {
   "cell_type": "markdown",
   "metadata": {},
   "source": [
    "## The Basic Idea\n",
    "\n",
    "If you have a set of Python scripts that are all using the same set of required packages, you can distribute those dependencies in the form of a zipapp, i.e. in a single executable file. See [Building Zipapps (PEP 441)](https://py-generic-project.readthedocs.io/en/latest/packaging.html#build-zipapps) for details if you're new to the concept of zipped.Python application bundles\n",
    "\n",
    "Unlike shipping a script in a virtualenv built within a single project, you can have a project for the base libraries and other projects for the scripts, including scripts written by end users who are just using your dependencies.\n",
    "\n",
    "You can also deploy any *PyPI* package that way, with a simple call of ``shiv``, as shown in the next section using *Pandas*."
   ]
  },
  {
   "cell_type": "markdown",
   "metadata": {},
   "source": [
    "## A Practical Example\n",
    "\n",
    "The following example uses the well-known *Pandas* data science library, but this works for any project built with setuptools or any other build tool creating Python packages that declare their requirements.\n",
    "\n",
    "So, to create your base library release artifact, install and call [shiv](https://github.com/linkedin/shiv) like this:\n",
    "\n",
    "    python3.8 -m pip install --user shiv\n",
    "    python3.8 -m shiv -p '/usr/bin/python3.8 -IS' -o ~/bin/_lib-pandas pandas==1.0.1\n",
    "\n",
    "Do this in a virtualenv and leave out the ``--user`` option if you want to keep your account's home directory clean.\n",
    "\n",
    "Note that we do not provide an entry point here, which means this zipapp drops into the given Python interpreter and is thus usable *as* an interpreter, with the contained  packages available for ``import``.\n",
    "\n",
    "Now we can exploit this to write a script using the zipapp as its interpreter:\n",
    "\n",
    "    cat >script <<'EOF'\n",
    "    #! /usr/bin/env _lib-pandas\n",
    "    import re\n",
    "    import sys\n",
    "    from pathlib import Path\n",
    "    import pandas as pd\n",
    "\n",
    "    print('Using Pandas from',\n",
    "          Path(pd.__file__).parent.relative_to(Path.home()),\n",
    "          '\\n\\nPython path:')\n",
    "    df = pd.DataFrame(sys.path, columns=['Path'])\n",
    "    df.Path = df.Path.str.replace(f'^{ re.escape(str(Path.home())) }/', '~/')\n",
    "    print(df)\n",
    "    EOF\n",
    "    chmod +x script\n",
    "    ./script\n",
    "\n",
    "Calling the script produces the following output:\n",
    "\n",
    "    Using Pandas from .shiv/_lib-pandas_23b2…d2/site-packages/pandas \n",
    "\n",
    "    Python path:\n",
    "                                                    Path\n",
    "    0                                  ~/bin/_lib-pandas\n",
    "    1                              /usr/lib/python38.zip\n",
    "    2                                 /usr/lib/python3.8\n",
    "    3                     /usr/lib/python3.8/lib-dynload\n",
    "    4  ~/.shiv/_lib-pandas_23b2bb7d64c26139950435a64d...\n",
    "\n",
    "If you're familiar with Pandas, you'll instantly recognize the Python path output as coming from a Pandas data frame. 🎉\n",
    "\n",
    "This first execution is a bit slow on startup, because the cache directory you see at the end of the Python path has to be populated first. shiv's bootstrapping code unpacks extensions packages into the file system, so the OS can load them.\n",
    "\n",
    "The underscore prefix in the zipapp name indicates this is not a command humans would normally use. Alternatively and especially in production you can deploy into e.g. ``/usr/local/lib/python3.8/`` and then use an absolute path instead of an ``env`` call as the script's interpreter."
   ]
  }
 ],
 "metadata": {
  "hide_input": false,
  "kernelspec": {
   "display_name": "Python 3",
   "language": "python",
   "name": "python3"
  },
  "language_info": {
   "codemirror_mode": {
    "name": "ipython",
    "version": 3
   },
   "file_extension": ".py",
   "mimetype": "text/x-python",
   "name": "python",
   "nbconvert_exporter": "python",
   "pygments_lexer": "ipython3",
   "version": "3.8.1"
  },
  "toc": {
   "base_numbering": 1,
   "nav_menu": {},
   "number_sections": true,
   "sideBar": true,
   "skip_h1_title": false,
   "title_cell": "Table of Contents",
   "title_sidebar": "Contents",
   "toc_cell": false,
   "toc_position": {},
   "toc_section_display": true,
   "toc_window_display": false
  },
  "varInspector": {
   "cols": {
    "lenName": 16,
    "lenType": 16,
    "lenVar": 40
   },
   "kernels_config": {
    "python": {
     "delete_cmd_postfix": "",
     "delete_cmd_prefix": "del ",
     "library": "var_list.py",
     "varRefreshCmd": "print(var_dic_list())"
    },
    "r": {
     "delete_cmd_postfix": ") ",
     "delete_cmd_prefix": "rm(",
     "library": "var_list.r",
     "varRefreshCmd": "cat(var_dic_list()) "
    }
   },
   "types_to_exclude": [
    "module",
    "function",
    "builtin_function_or_method",
    "instance",
    "_Feature"
   ],
   "window_display": false
  }
 },
 "nbformat": 4,
 "nbformat_minor": 4
}
