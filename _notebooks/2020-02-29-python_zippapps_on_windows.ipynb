{
 "cells": [
  {
   "cell_type": "markdown",
   "metadata": {},
   "source": [
    "# \"Enabling Easy Zipapp Installs on Windows\"\n",
    "> \"How to prepare a Windows system for a good PYZ experience.\"\n",
    "- author: jhermann\n",
    "- toc: false\n",
    "- branch: master\n",
    "- badges: true\n",
    "- comments: true\n",
    "- published: true\n",
    "- categories: [python, deployment]\n",
    "- image: images/copied_from_nb/img/python/python+windows.png"
   ]
  },
  {
   "cell_type": "markdown",
   "metadata": {},
   "source": [
    "![](img/python/python+windows.png)"
   ]
  },
  {
   "cell_type": "markdown",
   "metadata": {},
   "source": [
    "## Zipapps in a Nutshell\n",
    "\n",
    "Zipapps are a way to distribute Python applications\n",
    "and all of their dependencies in a single binary file.\n",
    "This is comparable to statically linked golang apps or Java's ‘executable JARs’. \n",
    "Their main advantage is that distributing and installing them is quite simple.\n",
    "\n",
    "Running Python code directly from ZIP archives is nothing new, [PEP 273](https://www.python.org/dev/peps/pep-0273/) made its debut in 2001, as part of Python 2.3 in the form of the ``zipimport`` module.\n",
    "[PEP 441](https://www.python.org/dev/peps/pep-0441/) builds on this and describes mechanisms to bundle full applications into a single ZIP file that can be made executable. It was approved in 2015 and a first implementation appeared in Python 3.5 via the ``zipapp`` module.\n",
    "\n",
    "See the PEP for details on how making a ZIP into an executable file works, but basically on POSIX systems the Python interpreter is called in a ‘bang path’ that is followed by the ZIP archive. The interpreter recognizes the ‘script’ is a whole application archive and acts accordingly. On Windows, zipapps *MUST* carry the ``.pyz`` extension which is bound to the ``py`` wrapper command, which in turn looks at the bang path and calls a matching Python interpreter from the installed set.\n",
    "\n",
    "To display the bang path of a zipapp, use this command:\n",
    "\n",
    "    python3 -m zipapp --info foo.pyz\n",
    "\n",
    "If you want to change the requested Python version to one that is actually installed or that you prefer, change the bang path as part of the installation process:\n",
    "\n",
    "    python3 -m zipapp -p '/usr/bin/env python3.8' -o ~/bin/foo foo.pyz\n",
    "\n",
    "This can also be done on an ad-hoc basis, by explicitly calling the desired interpreter:\n",
    "\n",
    "    python3.8 foo.pyz …  # POSIX\n",
    "    py -3.8 foo.pyz …    # Windows\n",
    "\n",
    "Well-known tools to build new zipapps, outside of the Python core, are [pex](https://github.com/pantsbuild/pex) (Twitter) and [shiv](https://github.com/linkedin/shiv) (LinkedIn). See their documentation for details on bundling your own applications."
   ]
  },
  {
   "cell_type": "markdown",
   "metadata": {},
   "source": [
    "## Setting Up Windows 10 for Zipapps\n",
    "\n",
    "On Windows, because there is no ‘+x’ flag, things are a bit more complicated than on POSIX.\n",
    "Zipapps **MUST** have a ``.pyz`` extension,\n",
    "for which the ``py`` launcher is registered as the default application.\n",
    "The net effect is that such files become executable and are handed over to the launcher\n",
    "*if* you add a few environment settings to your machine.\n",
    "\n",
    "In the user-specific environment settings, add a new ``PATHEXT`` variable\n",
    "(or extend an existing one), with the value ``%PATHEXT%;.PYZ``.\n",
    "Also edit the ``PATH`` one and add a new ``%LOCALAPPDATA%\\bin`` entry.\n",
    "Save everything (click “OK”), open a *new* command window, and verify\n",
    "the changes with\n",
    "\n",
    "     echo %PATHEXT% & echo %PATH%\n",
    "\n",
    "Create the new bin directory by calling ``md %LOCALAPPDATA%\\bin``.\n",
    "Now you can place a zipapp file like ``foo.pyz`` in that directory,\n",
    "and it is immediately callable as ``foo``.\n",
    "\n",
    "To get such a test subject, you can build \n",
    "[shiv](https://github.com/linkedin/shiv) with itself:\n",
    "\n",
    "    git clone https://github.com/linkedin/shiv.git\n",
    "    cd shiv\n",
    "    py -3 -m venv --prompt shiv venv\n",
    "    venv\\Scripts\\activate.bat\n",
    "    python -m pip install -e .\n",
    "    shiv -e shiv.cli:main -o %LOCALAPPDATA%\\bin\\shiv.pyz .\n",
    "    deactivate\n",
    "    shiv --version"
   ]
  },
  {
   "cell_type": "markdown",
   "metadata": {},
   "source": [
    "## Variations\n",
    "\n",
    "If that makes more sense to you, you can change the system-wide\n",
    "variables instead of the user-specific ones, and choose paths that are\n",
    "global for all users (like ``C:\\usr\\bin`` or similar).\n",
    "\n",
    "To make zipapps available network-wide, you can use ``%APPDATA%`` to store the zipapps,\n",
    "so you only have to maintain them once in case you regularly\n",
    "work on several machines in the same network. Just make sure the same version of Python is used everywhere then."
   ]
  }
 ],
 "metadata": {
  "hide_input": false,
  "kernelspec": {
   "display_name": "Python 3",
   "language": "python",
   "name": "python3"
  },
  "language_info": {
   "codemirror_mode": {
    "name": "ipython",
    "version": 3
   },
   "file_extension": ".py",
   "mimetype": "text/x-python",
   "name": "python",
   "nbconvert_exporter": "python",
   "pygments_lexer": "ipython3",
   "version": "3.8.1"
  },
  "toc": {
   "base_numbering": 1,
   "nav_menu": {},
   "number_sections": true,
   "sideBar": true,
   "skip_h1_title": false,
   "title_cell": "Table of Contents",
   "title_sidebar": "Contents",
   "toc_cell": false,
   "toc_position": {},
   "toc_section_display": true,
   "toc_window_display": false
  },
  "varInspector": {
   "cols": {
    "lenName": 16,
    "lenType": 16,
    "lenVar": 40
   },
   "kernels_config": {
    "python": {
     "delete_cmd_postfix": "",
     "delete_cmd_prefix": "del ",
     "library": "var_list.py",
     "varRefreshCmd": "print(var_dic_list())"
    },
    "r": {
     "delete_cmd_postfix": ") ",
     "delete_cmd_prefix": "rm(",
     "library": "var_list.r",
     "varRefreshCmd": "cat(var_dic_list()) "
    }
   },
   "types_to_exclude": [
    "module",
    "function",
    "builtin_function_or_method",
    "instance",
    "_Feature"
   ],
   "window_display": false
  }
 },
 "nbformat": 4,
 "nbformat_minor": 4
}
