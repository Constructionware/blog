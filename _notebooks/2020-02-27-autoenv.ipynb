{
 "cells": [
  {
   "cell_type": "markdown",
   "metadata": {},
   "source": [
    "# \"Simplify Your Developer Life with `autoenv`\"\n",
    "> \"Automate Python virtualenv activation when you enter your project workdirs.\"\n",
    "- author: jhermann\n",
    "- toc: false\n",
    "- branch: master\n",
    "- badges: true\n",
    "- comments: true\n",
    "- categories: [tools, automation]\n",
    "- image: images/copied_from_nb/img/misc/mind-blown.gif"
   ]
  },
  {
   "cell_type": "markdown",
   "metadata": {},
   "source": [
    "When you work a lot with Python `venv`s,\n",
    "and thus have a lot of them sprinkled over your home directory,\n",
    "then remembering to activate the right one can be a source of problems,\n",
    "and is tedious at best.\n",
    "But there is a solution to automate that chore\n",
    "– that's what we have those boxes full of electronics for, after all."
   ]
  },
  {
   "cell_type": "markdown",
   "metadata": {},
   "source": [
    "## Meet autoenv\n",
    "\n",
    "Consider this shell session and especially watch what happens to the prompt.\n",
    "\n",
    "```\n",
    "jhe@workstation:~$ which python\n",
    "/usr/bin/python\n",
    "jhe@workstation:~$ cd src/github/rituals/\n",
    "(rituals)jhe@workstation:~/src/github/rituals$ which python\n",
    "/home/jhe/src/github/rituals/.venv/rituals/bin/python\n",
    "```\n",
    "\n",
    "![It's Magic!](img/misc/mind-blown.gif)\n",
    "\n",
    "The magic wand was crafted by Kenneth Reitz,\n",
    "and can be found on [GitHub](https://github.com/kennethreitz/autoenv)."
   ]
  },
  {
   "cell_type": "markdown",
   "metadata": {},
   "source": [
    "## Installing autoenv\n",
    "\n",
    "To get a working installation, the easiest way is to directly use a git checkout as follows:\n",
    "\n",
    "```\n",
    "mkdir -p ~/.local\n",
    "test -d ~/.local/autoenv \\\n",
    "    || git clone \"https://github.com/kennethreitz/autoenv.git\" ~/.local/autoenv\n",
    "echo >>~/.bash_aliases \". ~/.local/autoenv/activate.sh\"\n",
    ". ~/.local/autoenv/activate.sh\n",
    "```\n",
    "\n",
    "That's all there is to it. Now you just have to add a `.env` file to your project,\n",
    "like in this [example](https://github.com/jhermann/rituals/blob/master/.env)."
   ]
  },
  {
   "cell_type": "markdown",
   "metadata": {},
   "source": [
    "## Security Considerations\n",
    "\n",
    "If you're afraid that the `cd` command is wrapped by a bash function,\n",
    "the following shows that you need not fear,\n",
    "since that function isn't exported to any scripts you run.\n",
    "\n",
    "```\n",
    "(rituals)jhe@workstation:~/src/github/rituals$ bash <<<\"pwd; cd $PWD/../time-tunnel; pwd; which python\"\n",
    "/home/jhe/src/github/rituals\n",
    "/home/jhe/src/github/time-tunnel\n",
    "/home/jhe/src/github/rituals/.venv/rituals/bin/python\n",
    "```\n",
    "\n",
    "This pretty much restricts the modified `cd` to interactive use.\n",
    "Sub-shells behave differently, again that's what you'd expect working at the prompt.\n",
    "\n",
    "```\n",
    "(rituals)jhe@workstation:~/src/github/rituals$ ( pwd; cd $PWD/../time-tunnel; pwd; which python )\n",
    "/home/jhe/src/github/rituals\n",
    "/home/jhe/src/github/time-tunnel\n",
    "/home/jhe/src/github/time-tunnel/.venv/time-tunnel/bin/python\n",
    "```\n",
    "\n",
    "If at any time you need the original command on the prompt, just use `command cd …` or `builtin cd …`.\n",
    "\n",
    "Also, nobody can inject code into your shell just so, see what happens if we stumble over\n",
    "a new or modified `.env` file the first time:\n",
    " \n",
    "```\n",
    "(rituals)jhe@workstation:~/src/github/rituals$ cd .\n",
    "(rituals)jhe@workstation:~/src/github/rituals$ echo >>.env\n",
    "(rituals)jhe@workstation:~/src/github/rituals$ cd .\n",
    "autoenv:\n",
    "autoenv: WARNING:\n",
    "autoenv: This is the first time you are about to source /home/jhe/src/github/rituals/.env:\n",
    "autoenv:\n",
    "autoenv:     --- (begin contents) ---------------------------------------\n",
    "autoenv:     # autoenv script (https://github.com/kennethreitz/autoenv)\n",
    "autoenv:     test \\! -f .venv/$(basename $(pwd))/bin/activate || . .venv/$(basename $(pwd))/bin/activate\n",
    "autoenv:     \n",
    "autoenv:\n",
    "autoenv:     --- (end contents) -----------------------------------------\n",
    "autoenv:\n",
    "autoenv: Are you sure you want to allow this? (y/N) y\n",
    "```\n",
    "\n",
    "Now you have all the information to decide whether this is something you'd like to use or not. \n",
    "\n",
    "I do, but YMMV. 🤔"
   ]
  }
 ],
 "metadata": {
  "hide_input": false,
  "kernelspec": {
   "display_name": "Python 3",
   "language": "python",
   "name": "python3"
  },
  "language_info": {
   "codemirror_mode": {
    "name": "ipython",
    "version": 3
   },
   "file_extension": ".py",
   "mimetype": "text/x-python",
   "name": "python",
   "nbconvert_exporter": "python",
   "pygments_lexer": "ipython3",
   "version": "3.8.1"
  },
  "toc": {
   "base_numbering": 1,
   "nav_menu": {},
   "number_sections": true,
   "sideBar": true,
   "skip_h1_title": false,
   "title_cell": "Table of Contents",
   "title_sidebar": "Contents",
   "toc_cell": false,
   "toc_position": {},
   "toc_section_display": true,
   "toc_window_display": false
  },
  "varInspector": {
   "cols": {
    "lenName": 16,
    "lenType": 16,
    "lenVar": 40
   },
   "kernels_config": {
    "python": {
     "delete_cmd_postfix": "",
     "delete_cmd_prefix": "del ",
     "library": "var_list.py",
     "varRefreshCmd": "print(var_dic_list())"
    },
    "r": {
     "delete_cmd_postfix": ") ",
     "delete_cmd_prefix": "rm(",
     "library": "var_list.r",
     "varRefreshCmd": "cat(var_dic_list()) "
    }
   },
   "types_to_exclude": [
    "module",
    "function",
    "builtin_function_or_method",
    "instance",
    "_Feature"
   ],
   "window_display": false
  }
 },
 "nbformat": 4,
 "nbformat_minor": 4
}
