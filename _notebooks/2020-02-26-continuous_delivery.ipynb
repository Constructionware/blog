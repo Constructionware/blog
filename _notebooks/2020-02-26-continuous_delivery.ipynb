{
 "cells": [
  {
   "cell_type": "markdown",
   "metadata": {},
   "source": [
    "# Continuous Delivery\n",
    "> An introcution to the devops practice of CI/CD.\n",
    "- toc: true\n",
    "- description: Continuous Delivery in a nutshell.\n",
    "- badges: true\n",
    "- comments: true\n",
    "- image: images/devops.png\n",
    "- categories:\n",
    "  - \"devops\"\n",
    "  - \"continuous-delivery\"\n",
    "  - \"automation\"\n",
    "\n",
    "<!--\n",
    "- title: \"Continuous Delivery\"\n",
    "-->\n",
    "\n",
    "## 1\n",
    "![DevOps Feedback Cycle]({{ site.baseurl }}/images/devops.png \"DevOps Feedback Cycle\")\n",
    "\n",
    "## 2\n",
    "![DevOps Feedback Cycle](../images/devops.png \"DevOps Feedback Cycle\")\n",
    "\n",
    "## 3\n",
    "![DevOps Feedback Cycle](images/devops.png \"DevOps Feedback Cycle\")\n",
    "\n",
    "## 4\n",
    "![DevOps Feedback Cycle](https://jhermann.github.io/blog/images/devops.png \"DevOps Feedback Cycle\")\n",
    "\n",
    "> I wrote this back in September 2014 and never published it, but since it's an introductory piece it stands its ground, so let this serve as an initial post…\n",
    "\n",
    "\n",
    "## CD in a Nutshell\n",
    "\n",
    "A typical mission statement for Continuous Delivery is this…\n",
    "\n",
    "> Our highest priority is to satisfy the customer,\n",
    "> through early and continuous delivery of valuable software.\n",
    "\n",
    "Continuous Delivery strives to improve the process of software delivery, by applying Continuous Deployment paired with automated testing and Continuous Integration. The goal is creating software developed to a high standard and easily packaged and deployed to test environments, resulting in the ability to rapidly, reliably and repeatedly push out enhancements and bug fixes to customers in small increments, at low risk and with minimal manual overhead.\n",
    "\n",
    "CD is effective because it facilitates an explorative approach by providing real, valuable measurements of the output of the process, and feeding those results back into the process. It's the next logical step after applying Agile principles to development, by expanding the scope to the whole software life-cycle and all involved parties, from inception to going live and then maintaining the product for a substantial amount of time in fast-paced iterations.\n",
    "\n",
    "\n",
    "## Some More Details\n",
    "\n",
    "Continuous Delivery means that your software is production-ready from day one of your project (even when it's not “feature complete”), and that you can release to users on demand at the push of a button. There are several practices and patterns that enable this, but the foundation is formed in particular by excellent configuration management, continuous integration, and comprehensive automated testing at all levels. The key pattern is the deployment pipeline, which is effectively the extension of continuous integration out to production, whereby every check-in produces a release candidate which is assessed for its fitness to be released to production through a series of automated and then manual tests.\n",
    "\n",
    "In order to be able to perform these validations against every build, your regression tests must be automated — both at the unit and acceptance level. Humans then perform tasks such as exploratory testing, usability testing, and showcases as later validations against builds that have already passed the automated tests. Builds can be deployed automatically on demand to testing, staging and production environments by the people authorized to do so — note that this means deployments are triggered by humans and performed by machines.\n",
    "\n",
    "Through these practices, teams can get fast feedback on whether the software being delivered is useful, reduce the risk of release, and achieve a much more predictable, reliable process for software delivery. The backbone of CD is a culture in which everybody, if somehow involved in the delivery process, collaborates throughout the life-cycle of the product — developers, testers, infrastructure, operators, DBAs, managers, and customers alike.\n",
    "\n",
    "\n",
    "## Where to Go From Here?\n",
    "\n",
    "* [Jez Humble's Blog · Continuous Delivery](https://continuousdelivery.com/about/)\n",
    "* [IT Revolution DevOps Blog](https://itrevolution.com/devops-blog/)\n",
    "* [Devops Weekly Mailing List](https://www.devopsweekly.com/) (by [@garethr](https://twitter.com/garethr))\n",
    "* [Team Topologies](https://teamtopologies.com/)"
   ]
  }
 ],
 "metadata": {
  "hide_input": false,
  "kernelspec": {
   "display_name": "Python 3",
   "language": "python",
   "name": "python3"
  },
  "language_info": {
   "codemirror_mode": {
    "name": "ipython",
    "version": 3
   },
   "file_extension": ".py",
   "mimetype": "text/x-python",
   "name": "python",
   "nbconvert_exporter": "python",
   "pygments_lexer": "ipython3",
   "version": "3.8.1"
  },
  "toc": {
   "base_numbering": 1,
   "nav_menu": {},
   "number_sections": true,
   "sideBar": true,
   "skip_h1_title": false,
   "title_cell": "Table of Contents",
   "title_sidebar": "Contents",
   "toc_cell": false,
   "toc_position": {},
   "toc_section_display": true,
   "toc_window_display": false
  },
  "varInspector": {
   "cols": {
    "lenName": 16,
    "lenType": 16,
    "lenVar": 40
   },
   "kernels_config": {
    "python": {
     "delete_cmd_postfix": "",
     "delete_cmd_prefix": "del ",
     "library": "var_list.py",
     "varRefreshCmd": "print(var_dic_list())"
    },
    "r": {
     "delete_cmd_postfix": ") ",
     "delete_cmd_prefix": "rm(",
     "library": "var_list.r",
     "varRefreshCmd": "cat(var_dic_list()) "
    }
   },
   "types_to_exclude": [
    "module",
    "function",
    "builtin_function_or_method",
    "instance",
    "_Feature"
   ],
   "window_display": false
  }
 },
 "nbformat": 4,
 "nbformat_minor": 4
}
