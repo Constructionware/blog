{
 "cells": [
  {
   "cell_type": "markdown",
   "metadata": {},
   "source": [
    "# \"Talks & Presentations\"\n",
    "> \"A maintained list of my slides & videos on the web.\"\n",
    "- author: jhermann\n",
    "- toc: false\n",
    "- branch: master\n",
    "- badges: false\n",
    "- comments: true\n",
    "- published: true\n",
    "- categories: [how-to, know-how]\n",
    "- image: images/copied_from_nb/img/misc/talks+presentations.png"
   ]
  },
  {
   "cell_type": "markdown",
   "metadata": {},
   "source": [
    "![](img/misc/talks+presentations.png)"
   ]
  },
  {
   "cell_type": "markdown",
   "metadata": {},
   "source": [
    "## Slides\n",
    "\n",
    "On [Speakerdeck](https://speakerdeck.com/jhermann):\n",
    "\n",
    " * [JupyterHub and Jupyter Notebook – A View Under the Hood](https://speakerdeck.com/jhermann/jupyterhub-and-jupyter-notebook-a-view-under-the-hood) (PyData Südwest Meetup KA · 2018-04-24)\n",
    " * [Document the Data – Creating Reports Using Docs Tooling](https://speakerdeck.com/jhermann/pydata-sudwest-meetup-ka-2018-06-13) (PyData Südwest Meetup KA · 2018-06-13)\n",
    " * [DevOps Tool Bazaar – dh-virtualenv, fpm, sentry.io](https://speakerdeck.com/jhermann/devops-karlsruhe-meetup-2018-02-20) (DevOps Karlsruhe Meetup · 2018-02-20)"
   ]
  },
  {
   "cell_type": "markdown",
   "metadata": {},
   "source": [
    "## Videos"
   ]
  }
 ],
 "metadata": {
  "hide_input": false,
  "kernelspec": {
   "display_name": "Python 3",
   "language": "python",
   "name": "python3"
  },
  "language_info": {
   "codemirror_mode": {
    "name": "ipython",
    "version": 3
   },
   "file_extension": ".py",
   "mimetype": "text/x-python",
   "name": "python",
   "nbconvert_exporter": "python",
   "pygments_lexer": "ipython3",
   "version": "3.8.1"
  },
  "toc": {
   "base_numbering": 1,
   "nav_menu": {},
   "number_sections": true,
   "sideBar": true,
   "skip_h1_title": false,
   "title_cell": "Table of Contents",
   "title_sidebar": "Contents",
   "toc_cell": false,
   "toc_position": {},
   "toc_section_display": true,
   "toc_window_display": false
  },
  "varInspector": {
   "cols": {
    "lenName": 16,
    "lenType": 16,
    "lenVar": 40
   },
   "kernels_config": {
    "python": {
     "delete_cmd_postfix": "",
     "delete_cmd_prefix": "del ",
     "library": "var_list.py",
     "varRefreshCmd": "print(var_dic_list())"
    },
    "r": {
     "delete_cmd_postfix": ") ",
     "delete_cmd_prefix": "rm(",
     "library": "var_list.r",
     "varRefreshCmd": "cat(var_dic_list()) "
    }
   },
   "types_to_exclude": [
    "module",
    "function",
    "builtin_function_or_method",
    "instance",
    "_Feature"
   ],
   "window_display": false
  }
 },
 "nbformat": 4,
 "nbformat_minor": 4
}
