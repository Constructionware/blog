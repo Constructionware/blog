{
 "cells": [
  {
   "cell_type": "markdown",
   "metadata": {},
   "source": [
    "# \"A Guided Tour of My Projects\"\n",
    "> \"A maintained list of my (software) projects.\"\n",
    "- author: jhermann\n",
    "- toc: true\n",
    "- branch: master\n",
    "- badges: false\n",
    "- comments: true\n",
    "- published: true\n",
    "- categories: [misc, development]\n",
    "- image: images/copied_from_nb/img/misc/binary-code-cc0.jpg"
   ]
  },
  {
   "cell_type": "markdown",
   "metadata": {},
   "source": [
    "> 🚧 *This article is work in progress, and will be updated regularly with new content.*"
   ]
  },
  {
   "cell_type": "markdown",
   "metadata": {},
   "source": [
    "![](img/misc/binary-code-cc0.jpg)"
   ]
  },
  {
   "cell_type": "markdown",
   "metadata": {},
   "source": [
    "## For Python Developers\n",
    "\n",
    "The [Springerle](https://github.com/Springerle) GitHub organization is a collection of [cookiecutter project templates](https://github.com/cookiecutter), with templates for single-file scripts ([py-minimal-script](https://github.com/Springerle/py-minimal-script)), fully equipped packages and applications ([py-generic-project](https://github.com/Springerle/py-generic-project)), Debian-packaging of existing projects ([dh-virtualenv-mold](https://github.com/Springerle/dh-virtualenv-mold) · [debianized-pypi-mold](https://github.com/Springerle/debianized-pypi-mold)), and more."
   ]
  },
  {
   "cell_type": "markdown",
   "metadata": {},
   "source": [
    "## Miscellaneous\n",
    "\n",
    "The README of [awesome-python-talks](https://github.com/jhermann/awesome-python-talks) is an opinionated list of videos related to Python, with a focus on training and gaining hands-on experience. The [awesome-tech-talks](https://github.com/1and1/awesome-tech-talks) reposiotry is very similar, but with a different scope of software development and general IT topics."
   ]
  }
 ],
 "metadata": {
  "hide_input": false,
  "kernelspec": {
   "display_name": "Python 3",
   "language": "python",
   "name": "python3"
  },
  "language_info": {
   "codemirror_mode": {
    "name": "ipython",
    "version": 3
   },
   "file_extension": ".py",
   "mimetype": "text/x-python",
   "name": "python",
   "nbconvert_exporter": "python",
   "pygments_lexer": "ipython3",
   "version": "3.8.1"
  },
  "toc": {
   "base_numbering": 1,
   "nav_menu": {},
   "number_sections": true,
   "sideBar": true,
   "skip_h1_title": false,
   "title_cell": "Table of Contents",
   "title_sidebar": "Contents",
   "toc_cell": false,
   "toc_position": {},
   "toc_section_display": true,
   "toc_window_display": false
  },
  "varInspector": {
   "cols": {
    "lenName": 16,
    "lenType": 16,
    "lenVar": 40
   },
   "kernels_config": {
    "python": {
     "delete_cmd_postfix": "",
     "delete_cmd_prefix": "del ",
     "library": "var_list.py",
     "varRefreshCmd": "print(var_dic_list())"
    },
    "r": {
     "delete_cmd_postfix": ") ",
     "delete_cmd_prefix": "rm(",
     "library": "var_list.r",
     "varRefreshCmd": "cat(var_dic_list()) "
    }
   },
   "types_to_exclude": [
    "module",
    "function",
    "builtin_function_or_method",
    "instance",
    "_Feature"
   ],
   "window_display": false
  }
 },
 "nbformat": 4,
 "nbformat_minor": 4
}
