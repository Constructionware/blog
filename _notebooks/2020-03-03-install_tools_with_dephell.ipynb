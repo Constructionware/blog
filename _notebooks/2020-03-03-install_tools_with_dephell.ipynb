{
 "cells": [
  {
   "cell_type": "markdown",
   "metadata": {},
   "source": [
    "# \"Installing CLI Tools Using ‘dephell’\"\n",
    "> \"Taking a closer look at Dephell's ‘jail’ sub-command to replace ‘pipsi’.\"\n",
    "- author: jhermann\n",
    "- toc: false\n",
    "- branch: master\n",
    "- badges: true\n",
    "- comments: true\n",
    "- published: true\n",
    "- categories: [python, deployment]\n",
    "- image: images/copied_from_nb/img/python/dephell-py-prj-mgmt.png"
   ]
  },
  {
   "cell_type": "markdown",
   "metadata": {},
   "source": [
    "![](img/python/dephell-py-prj-mgmt.png)"
   ]
  },
  {
   "cell_type": "markdown",
   "metadata": {},
   "source": [
    "## Introduction\n",
    "\n",
    "‘dephell’ is a useful add-on tool for project and venv management that works with existing standard tooling, instead of doing a bad *replacement* job like so many others. This post takes a look at how it can take over from `pipsi` (Python Script Installer, which is unmaintained) to manage *isolated* tool installations by providing each tool with its own virtual environment."
   ]
  },
  {
   "cell_type": "markdown",
   "metadata": {},
   "source": [
    "## Installation\n",
    "\n",
    "Dephell is installed via a Python installer script into its own venv (compatible to what `dephell` itself creates as a so-called ‘jail’).\n",
    "\n",
    "    curl -L dephell.org/install | python3\n",
    "\n",
    "`dephell` needs at least Python 3.6, which is the default on Ubuntu Bionic, so it *just works*™ there. On *Xenial*, you need to install 3.6+ from the Deadsnakes PPA first, and pipe the installer script into e.g. `python3.8`.\n",
    "\n",
    "The only locations touched by the installer on a Posix host are `~/.local/bin/` and `~/.local/share/dephell/venvs/`."
   ]
  },
  {
   "cell_type": "markdown",
   "metadata": {},
   "source": [
    "## Going into ‘jail’\n",
    "\n",
    "As already mentioned, this post will take a deeper look into the `dephell jail` sub-command for venv management.\n",
    "\n",
    "Unlike `pipsi`, the former go-to tool for that purpose, it is maintained, supports full life-cycle management (i.e. it has a way to remove tool installations), and also supports projects that have several console entry points (i.e. expose more than one command).\n",
    "\n",
    "I also like it a lot more than `pipx`, which has a similar feature profile when compared to just dephell's `jail` sub-command, but YMMV.\n",
    "\n",
    "As a first example, to get rid of `dephell` again, just remove it using itself:\n",
    "\n",
    "    dephell jail remove dephell\n",
    "\n",
    "Note that doing so leaves anything installed via dephell untouched (i.e. other jails still work), and reinstalling allows to manage those again.\n",
    "\n",
    "Adding more tools is done using `jail install`:\n",
    "\n",
    "    dephell jail install shiv\n",
    "    shiv --version\n",
    "\n",
    "Make sure that ``~/.local/bin`` is in your ``PATH``, which is not always the case on older GNU/Linux releases.\n",
    "\n",
    "You can easily list what you have installed:\n",
    "\n",
    "    $ dephell jail list\n",
    "    {\n",
    "      \"dephell\": [\n",
    "        \"dephell\"\n",
    "      ],\n",
    "      \"shiv\": [\n",
    "        \"shiv-info\",\n",
    "        \"shiv\"\n",
    "      ]\n",
    "    }\n",
    "\n",
    "As you can see, the output is JSON by default and lists all installed tools with their possibly multiple entry points. You can add the `--table` option to get output more suited for humans.\n",
    "\n",
    "To see more details about a single venv, use `jail show`:\n",
    "\n",
    "    $ dephell jail show dephell\n",
    "    {\n",
    "      \"entrypoints\": [\n",
    "        \"dephell\"\n",
    "      ],\n",
    "      \"name\": \"dephell\",\n",
    "      \"path\": \"/home/jhe/.local/share/dephell/venvs/dephell\",\n",
    "      \"size\": {\n",
    "        \"lib\": \"43.21Mb\",\n",
    "        \"total\": \"56.78Mb\"\n",
    "      },\n",
    "      \"version\": \"0.8.1\"\n",
    "    }\n",
    "\n",
    "Finally, there is a `jail try` command to give new tools a quick spin in a *temporary* environment, without leaving any trace of it on your machine.\n",
    "\n",
    "    $ dephell jail try --command \"pip --version\" pip\n",
    "    …\n",
    "    INFO running...\n",
    "    pip 20.0.2 from /tmp/tmpnm5gvieo/lib/python3.6/site-packages/pip (python 3.6)"
   ]
  },
  {
   "cell_type": "markdown",
   "metadata": {},
   "source": [
    "## Beyond ‘jail’\n",
    "\n",
    "Besides `jail`, there are lots of other sub-commands for dependency management, handling docker images, creating common Python software project files, managing and vendoring your project's dependencies, and handling of project-specific venvs. See the full [DepHell documentation](https://dephell.readthedocs.io/) for details on that."
   ]
  }
 ],
 "metadata": {
  "hide_input": false,
  "kernelspec": {
   "display_name": "Python 3",
   "language": "python",
   "name": "python3"
  },
  "language_info": {
   "codemirror_mode": {
    "name": "ipython",
    "version": 3
   },
   "file_extension": ".py",
   "mimetype": "text/x-python",
   "name": "python",
   "nbconvert_exporter": "python",
   "pygments_lexer": "ipython3",
   "version": "3.8.1"
  },
  "toc": {
   "base_numbering": 1,
   "nav_menu": {},
   "number_sections": true,
   "sideBar": true,
   "skip_h1_title": false,
   "title_cell": "Table of Contents",
   "title_sidebar": "Contents",
   "toc_cell": false,
   "toc_position": {},
   "toc_section_display": true,
   "toc_window_display": false
  },
  "varInspector": {
   "cols": {
    "lenName": 16,
    "lenType": 16,
    "lenVar": 40
   },
   "kernels_config": {
    "python": {
     "delete_cmd_postfix": "",
     "delete_cmd_prefix": "del ",
     "library": "var_list.py",
     "varRefreshCmd": "print(var_dic_list())"
    },
    "r": {
     "delete_cmd_postfix": ") ",
     "delete_cmd_prefix": "rm(",
     "library": "var_list.r",
     "varRefreshCmd": "cat(var_dic_list()) "
    }
   },
   "types_to_exclude": [
    "module",
    "function",
    "builtin_function_or_method",
    "instance",
    "_Feature"
   ],
   "window_display": false
  }
 },
 "nbformat": 4,
 "nbformat_minor": 4
}
